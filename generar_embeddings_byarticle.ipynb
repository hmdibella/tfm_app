{
 "cells": [
  {
   "cell_type": "code",
   "execution_count": 1,
   "id": "b01a1b7c-e3cf-4b08-8bc3-42b55b482ec0",
   "metadata": {},
   "outputs": [
    {
     "data": {
      "text/plain": [
       "False"
      ]
     },
     "execution_count": 1,
     "metadata": {},
     "output_type": "execute_result"
    }
   ],
   "source": [
    "import streamlit as st\n",
    "import warnings\n",
    "import configparser\n",
    "import os\n",
    "import logging\n",
    "import random\n",
    "import string\n",
    "import time\n",
    "from langchain_core.chat_history import BaseChatMessageHistory\n",
    "from langchain_google_genai import GoogleGenerativeAIEmbeddings\n",
    "from langchain_community.vectorstores import FAISS\n",
    "from langchain_google_genai import ChatGoogleGenerativeAI\n",
    "from langchain_core.prompts import ChatPromptTemplate, MessagesPlaceholder\n",
    "from langchain.chains import create_history_aware_retriever, create_retrieval_chain\n",
    "from langchain.chains.combine_documents import create_stuff_documents_chain\n",
    "from langchain_core.runnables.history import RunnableWithMessageHistory\n",
    "from langchain_community.chat_message_histories import ChatMessageHistory\n",
    "from dotenv import load_dotenv\n",
    "\n",
    "\n",
    "load_dotenv() # Loads .env file"
   ]
  },
  {
   "cell_type": "code",
   "execution_count": 2,
   "id": "46af5f1d-18e5-4460-bae0-3c5467e79b8f",
   "metadata": {},
   "outputs": [],
   "source": [
    "from langchain_huggingface import HuggingFaceEmbeddings"
   ]
  },
  {
   "cell_type": "code",
   "execution_count": 3,
   "id": "2238e883-4254-48f2-bc05-274b286c76c8",
   "metadata": {},
   "outputs": [],
   "source": [
    "GOOGLE_API_KEY = \"\"\n",
    "MODEL_EMBEDDINGS_GOOGLE = \"models/embedding-001\"\n",
    "MODEL_LLM_GOOGLE = \"gemini-1.5-pro\"\n",
    "OUTPUT_PATH = \"output\"\n",
    "FAISS_GOOGLE_PATH = \"output/faiss_index\"\n",
    "NUMEXPR_MAX_THREADS = \"16\"\n",
    "TASK_TYPES = [\"task_type_unspecified\", \"retrieval_query\", \"retrieval_document\", \"semantic_similarity\", \"classification\", \"clustering\"]"
   ]
  },
  {
   "cell_type": "code",
   "execution_count": 4,
   "id": "c5a4df34-9044-4c89-abac-d751ef525b3d",
   "metadata": {},
   "outputs": [],
   "source": [
    "CONTEXTUALIZE_Q_SYSTEM_PROMPT = \"\"\"Given a chat history and the latest user question which might reference context in the chat history, formulate a standalone question which can be understood without the chat history. Do NOT answer the question, just reformulate it if needed and otherwise return it as is.\"\"\""
   ]
  },
  {
   "cell_type": "code",
   "execution_count": 5,
   "id": "1d12efca-9496-4dc8-8b25-be4a75ec2b35",
   "metadata": {},
   "outputs": [],
   "source": [
    "PROMPT_TEMPLATE_GOOGLE = \"\"\"You are an intelligent assistant. Answer the question based solely on the information provided in the context, specific for Spain.\n",
    "Do not add any information beyond what is given. \n",
    "If the context does not contain the answer, respond with: \"The answer is not available in the provided context.\"\n",
    "Be concise and accurate. All the answers must be in Spanish language from Spain, in an informal manner.\n",
    "Answers must be clear, precise, and unambiguous, and a teenager should be able to understand the answer.\n",
    "Explicitly avoid phrases such as \"según el documento\", \"según el capítulo\", \"en el texto\", \"como se menciona en el artículo\", or any implication of external texts. Do not construct questions that require knowledge of the structure of the document or the location of information in it.\n",
    "Include the content-specific information that supports the answer to allow the answer to be independent of any external text.\n",
    "If the content lacks sufficient information to form a complete answer, do not force one.\n",
    "Create the answers in your own words; Direct copying of content is not permitted.\n",
    "NEVER mention the words \"documento\", \"texto\", \"presentación\", \"archivo\", \"tabla\", \"artículo\", \"ley\", \"capítulo\", \"preámbulo\", \"título preliminar\", \"disposición\" or \"disposiciones generales\" in your questions or answers.\n",
    "ALWAYS make sure that all answers are accurate, self-contained, and relevant, without relying on any original document or text or implying its existence, strictly avoiding any invention or speculation.\n",
    "IMPORTANT: if in the question there is no mention of a Comunidad Autonoma or the name of a city or province, try that the answer applies to Spain as a country.\n",
    "\n",
    "Context:\n",
    "{context}\n",
    "\"\"\""
   ]
  },
  {
   "cell_type": "code",
   "execution_count": 6,
   "id": "615cebbb-fcc6-4ac9-b950-df5f155320ac",
   "metadata": {},
   "outputs": [],
   "source": [
    "store = {}"
   ]
  },
  {
   "cell_type": "code",
   "execution_count": 7,
   "id": "46b0005c-8a5a-49ba-9fb3-c5031d58ba26",
   "metadata": {},
   "outputs": [],
   "source": [
    "def load_config():\n",
    "    global GOOGLE_API_KEY\n",
    "    global MODEL_EMBEDDINGS_GOOGLE\n",
    "    global OUTPUT_PATH\n",
    "    global FAISS_GOOGLE_PATH\n",
    "    global LOG_PATH\n",
    "    global NUMEXPR_MAX_THREADS\n",
    "    \n",
    "    config = configparser.ConfigParser()\n",
    "    config.read('streamlit_google_history_final.ini')\n",
    "    GOOGLE_API_KEY = config['KEYS']['google_api_key']\n",
    "    MODEL_EMBEDDINGS_GOOGLE = config['MODELS']['model_embeddings_google']\n",
    "    MODEL_LLM_GOOGLE = config['MODELS']['model_llm_google']\n",
    "    OUTPUT_PATH = config['DEFAULT']['output_path']\n",
    "    FAISS_GOOGLE_PATH = config['DEFAULT']['faiss_google_path']\n",
    "    NUMEXPR_MAX_THREADS = config['DEFAULT']['numexpr_max_threads']\n",
    "    LOG_PATH = config['DEFAULT']['log_path']"
   ]
  },
  {
   "cell_type": "code",
   "execution_count": 8,
   "id": "da0f5cd8-0e7b-4251-ac48-ef0dd2a79e94",
   "metadata": {},
   "outputs": [],
   "source": [
    "def get_session_history(session_id: str) -> BaseChatMessageHistory:\n",
    "    global store\n",
    "    if session_id not in store:\n",
    "        store[session_id] = ChatMessageHistory()\n",
    "    return store[session_id]"
   ]
  },
  {
   "cell_type": "code",
   "execution_count": 9,
   "id": "c2f521fd-ffe2-4bc7-8963-c5f48837fb5c",
   "metadata": {},
   "outputs": [],
   "source": [
    "def get_conversational_chain(retriever):\n",
    "    \n",
    "    llm = ChatGoogleGenerativeAI(model = MODEL_LLM_GOOGLE, temperature = 0.3)\n",
    "    \n",
    "    contextualize_q_prompt = ChatPromptTemplate.from_messages(\n",
    "        [\n",
    "            (\"system\", CONTEXTUALIZE_Q_SYSTEM_PROMPT),\n",
    "            MessagesPlaceholder(\"chat_history\"),\n",
    "            (\"human\", \"{input}\"),\n",
    "        ]\n",
    "    )\n",
    "    \n",
    "    history_aware_retriever = create_history_aware_retriever(\n",
    "        llm, retriever, contextualize_q_prompt\n",
    "    )\n",
    "    \n",
    "    qa_prompt = ChatPromptTemplate.from_messages(\n",
    "        [\n",
    "            (\"system\", PROMPT_TEMPLATE_GOOGLE),\n",
    "            MessagesPlaceholder(\"chat_history\"),\n",
    "            (\"human\", \"{input}\"),\n",
    "        ]\n",
    "    )\n",
    "    \n",
    "    question_answer_chain = create_stuff_documents_chain(llm, qa_prompt)\n",
    "    rag_chain = create_retrieval_chain(history_aware_retriever, question_answer_chain)\n",
    "    \n",
    "    conversational_rag_chain = RunnableWithMessageHistory(\n",
    "        rag_chain,\n",
    "        get_session_history,\n",
    "        input_messages_key=\"input\",\n",
    "        history_messages_key=\"chat_history\",\n",
    "        output_messages_key=\"answer\",\n",
    "    )\n",
    "    \n",
    "    return conversational_rag_chain"
   ]
  },
  {
   "cell_type": "code",
   "execution_count": 10,
   "id": "c45468f9-275d-4206-b13f-9c5a7a866f12",
   "metadata": {},
   "outputs": [],
   "source": [
    "def user_input(user_question, k_value, session_id, task_type):\n",
    "    #embeddings = GoogleGenerativeAIEmbeddings(model = MODEL_EMBEDDINGS_GOOGLE, task_type=task_type)\n",
    "    embeddings = HuggingFaceEmbeddings(model_name=\"paraphrase-xlm-r-multilingual-v1\")\n",
    "    #new_db = FAISS.load_local(FAISS_GOOGLE_PATH + \"_\" + task_type, embeddings, allow_dangerous_deserialization=True)\n",
    "    new_db = FAISS.load_local(\"output/faiss_index_ollama\", embeddings, allow_dangerous_deserialization=True)\n",
    "    retriever = new_db.as_retriever(search_kwargs={\"k\": k_value})\n",
    "    chain = get_conversational_chain(retriever)\n",
    "    response = chain.invoke(\n",
    "        {\"input\": user_question},\n",
    "        config={\n",
    "            \"configurable\": {\"session_id\": session_id}\n",
    "        },\n",
    "    )\n",
    "    \n",
    "    return response"
   ]
  },
  {
   "cell_type": "code",
   "execution_count": 11,
   "id": "93525169-437d-4374-8059-aced394e8aac",
   "metadata": {},
   "outputs": [],
   "source": [
    "def response_generator(prompt, k_value, session_id):\n",
    "    start_model_exec = time.time()\n",
    "    response = user_input(prompt, k_value, session_id)\n",
    "    end_model_exec = time.time()\n",
    "    resp_text = \"{0} (Tiempo de respuesta: {1:.2f} seg. Session ID: {2}).\".format(response, end_model_exec - start_model_exec,  session_id)\n",
    "    for word in resp_text.split():\n",
    "        yield word + \" \"\n",
    "        time.sleep(0.05)"
   ]
  },
  {
   "cell_type": "code",
   "execution_count": 12,
   "id": "62015cd7-dd2c-41f5-9661-8454d4fde2e1",
   "metadata": {},
   "outputs": [],
   "source": [
    "warnings.filterwarnings(\"ignore\", category=FutureWarning)\n",
    "load_config()\n",
    "os.environ[\"NUMEXPR_MAX_THREADS\"] = NUMEXPR_MAX_THREADS\n",
    "os.environ['GOOGLE_API_KEY'] = GOOGLE_API_KEY"
   ]
  },
  {
   "cell_type": "code",
   "execution_count": 20,
   "id": "06a1f4e9-cc68-40c1-b3da-bdaa2939acbb",
   "metadata": {},
   "outputs": [],
   "source": [
    "k_value = 16\n",
    "session_id = \"hdb0006\"\n",
    "task_type=\"retrieval_document\"\n",
    "prompt = \"Tengo un permiso de conducir de Argentina, como saco el español?\""
   ]
  },
  {
   "cell_type": "code",
   "execution_count": null,
   "id": "73e090ce-2e6d-4a0b-851b-7e62b7a9fd90",
   "metadata": {},
   "outputs": [],
   "source": [
    "response = {}\n",
    "for task in TASK_TYPES:\n",
    "    response[task] = user_input(prompt, k_value, session_id, task)"
   ]
  },
  {
   "cell_type": "code",
   "execution_count": null,
   "id": "ac54da44-740b-4012-8e19-743c3c35e608",
   "metadata": {},
   "outputs": [],
   "source": [
    "for task in TASK_TYPES:\n",
    "    print(task)\n",
    "    print(response[task]['context'])"
   ]
  },
  {
   "cell_type": "code",
   "execution_count": 21,
   "id": "617dd8c5-9c34-4039-87f9-aded0d77968e",
   "metadata": {},
   "outputs": [],
   "source": [
    "response = user_input(prompt, k_value, session_id, task)"
   ]
  },
  {
   "cell_type": "code",
   "execution_count": 22,
   "id": "fd524d78-7952-4f9c-b0d8-68d7f1ad0608",
   "metadata": {},
   "outputs": [
    {
     "data": {
      "text/plain": [
       "'Si tienes un permiso de conducir de Argentina y quieres conducir en España, puedes hacerlo durante los primeros seis meses desde que establezcas tu residencia normal en el país. Después de ese tiempo, tendrás que canjear tu permiso argentino por uno español equivalente. \\n'"
      ]
     },
     "execution_count": 22,
     "metadata": {},
     "output_type": "execute_result"
    }
   ],
   "source": [
    "response['answer']"
   ]
  },
  {
   "cell_type": "code",
   "execution_count": 29,
   "id": "eb9a5569-298f-441c-b10f-c24a32b4058a",
   "metadata": {},
   "outputs": [],
   "source": [
    "response = user_input(\"me lo explicas de otra forma?\", k_value, session_id, task)"
   ]
  },
  {
   "cell_type": "code",
   "execution_count": 30,
   "id": "edc27bdb-36f7-4495-a1a0-b07d1ecd2e4a",
   "metadata": {},
   "outputs": [
    {
     "data": {
      "text/plain": [
       "'Si eres de India y tienes carné de conducir de allí, puedes conducir en España durante seis meses como máximo desde que te establezcas a vivir aquí.  Eso sí, tu carné debe estar en español o con traducción oficial y tienes que tener la edad mínima para conducir en España ese tipo de vehículo. Pasado ese tiempo, tienes que cambiarlo por uno español. \\n'"
      ]
     },
     "execution_count": 30,
     "metadata": {},
     "output_type": "execute_result"
    }
   ],
   "source": [
    "response['answer']"
   ]
  },
  {
   "cell_type": "code",
   "execution_count": 31,
   "id": "278c9fe3-d77f-48c3-b4c6-771f0f237624",
   "metadata": {},
   "outputs": [
    {
     "data": {
      "text/plain": [
       "{'input': 'me lo explicas de otra forma?',\n",
       " 'chat_history': [HumanMessage(content='Requisitos para obtener un permiso o una licencia de conducción.'),\n",
       "  AIMessage(content='Para obtener un permiso o una licencia de conducción necesitas: no tener prohibido conducir por un juez, no tener el carné retirado, haber esperado el tiempo que dice la ley si te quedaste sin puntos, estar física y mentalmente capacitado para conducir, aprobar los exámenes teórico y práctico de la DGT y no tener un permiso de conducir de otro país de la Unión Europea o del Espacio Económico Europeo. \\n'),\n",
       "  HumanMessage(content='Tengo un permiso de conducir de Argentina, como saco el español?'),\n",
       "  AIMessage(content='Si tienes un permiso de conducir de Argentina y quieres conducir en España, puedes hacerlo durante los primeros seis meses desde que establezcas tu residencia normal en el país. Después de ese tiempo, tendrás que canjear tu permiso argentino por uno español equivalente. \\n'),\n",
       "  HumanMessage(content='y si el permiso argentino esta caducado, que hago?'),\n",
       "  AIMessage(content='La respuesta no está disponible en el contexto proporcionado. \\n'),\n",
       "  HumanMessage(content='y si el permiso es venezolano?'),\n",
       "  AIMessage(content='Si tienes un permiso de conducir de Venezuela y quieres conducir en España, puedes hacerlo durante los primeros seis meses desde que establezcas tu residencia normal en el país. Después de ese tiempo, tendrás que canjear tu permiso venezolano por uno español equivalente. \\n'),\n",
       "  HumanMessage(content='y si es de India?'),\n",
       "  AIMessage(content='Si tienes un permiso de conducir de India y quieres conducir en España, puedes hacerlo durante los primeros seis meses desde que establezcas tu residencia normal en el país, siempre y cuando esté en castellano o lleve una traducción oficial, y cumpla con los requisitos de edad. Después de ese tiempo, tendrás que canjear tu permiso indio por uno español equivalente. \\n')],\n",
       " 'context': [Document(page_content='Artículo 15. Validez del permiso de conducción en España. 1. Los permisos de conducción expedidos en cualquier Estado miembro de la Unión Europea o en Estados Parte del Acuerdo sobre el Espacio Económico Europeo con arreglo a la normativa comunitaria mantendrán su validez en España, en las condiciones en que hubieran sido expedidos en su lugar de origen, con la salvedad de que la edad requerida para la conducción corresponderá a la exigida para obtener el permiso español equivalente. 2. No obstante, no serán válidos para conducir en España los permisos de conducción expedidos por alguno de dichos Estados que estén restringidos, suspendidos o retirados en cualquiera de ellos o en España. 3. Tampoco serán válidos los permisos de conducción expedidos en cualquiera de esos Estados a quien hubiera sido titular de otro permiso de conducción expedido en alguno de ellos que haya sido retirado, suspendido o declarada su nulidad, lesividad o pérdida de vigencia en España. 4. El titular de un permiso de conducción expedido en uno de estos Estados que haya adquirido su residencia normal en España quedará sometido a las disposiciones españolas relativas a su período de vigencia, de control de sus aptitudes psicofísicas y de asignación de un crédito de puntos. Cuando se trate de un permiso de conducción no sujeto a un período de vigencia determinado, su titular deberá proceder a su renovación, una vez transcurridos dos años desde que establezca su residencia normal en España, a los efectos de aplicarle los plazos de vigencia previstos en el artículo 12. 5. El titular del permiso de conducción que haya adquirido su residencia normal en España, y deba someterse a la normativa española de acuerdo con lo dispuesto en el apartado anterior, una vez superada la prueba de control de aptitudes psicofísicas, continuará en posesión de su permiso de conducción, procediéndose a la anotación en el Registro de conductores e infractores del período de vigencia que le corresponda según su edad y la clase de permiso de que sea titular. Si del resultado de esa prueba fuera necesario imponer adaptaciones, restricciones u otras limitaciones, se procederá a su canje de oficio, de acuerdo con lo dispuesto en el artículo 19. 1. Los permisos de conducción expedidos en cualquier Estado miembro de la Unión Europea o en Estados Parte del Acuerdo sobre el Espacio Económico Europeo con arreglo a la normativa comunitaria mantendrán su validez en España, en las condiciones en que hubieran sido expedidos en su lugar de origen, con la salvedad de que la edad requerida para la conducción corresponderá a la exigida para obtener el permiso español equivalente. 2. No obstante, no serán válidos para conducir en España los permisos de conducción expedidos por alguno de dichos Estados que estén restringidos, suspendidos o retirados en cualquiera de ellos o en España. 3. Tampoco serán válidos los permisos de conducción expedidos en cualquiera de esos Estados a quien hubiera sido titular de otro permiso de conducción expedido en alguno de ellos que haya sido retirado, suspendido o declarada su nulidad, lesividad o pérdida de vigencia en España. 4. El titular de un permiso de conducción expedido en uno de estos Estados que haya adquirido su residencia normal en España quedará sometido a las disposiciones españolas relativas a su período de vigencia, de control de sus aptitudes psicofísicas y de asignación de un crédito de puntos. Cuando se trate de un permiso de conducción no sujeto a un período de vigencia determinado, su titular deberá proceder a su renovación, una vez transcurridos dos años desde que establezca su residencia normal en España, a los efectos de aplicarle los plazos de vigencia previstos en el artículo 12.'),\n",
       "  Document(page_content='Artículo 18. Canje del permiso por otro español equivalente. 1. El titular de un permiso de conducción vigente expedido en cualquiera de estos Estados, que haya establecido su residencia normal en España, podrá solicitar en cualquier momento de la Jefatura Provincial de Tráfico en la que desee obtenerlo, el canje de su permiso de conducción por otro español equivalente. A la solicitud en el modelo oficial, suscrita por el interesado, se acompañarán los documentos que se indican en el anexo III. 2. La Jefatura Provincial de Tráfico a la que se dirija la solicitud, después de comprobar, en su caso, la autenticidad, validez y vigencia del permiso presentado, concederá o denegará, según proceda, el canje solicitado. 3. La resolución a que se refiere el apartado anterior, con indicación del Estado que haya expedido el permiso y los datos que figuren en el mismo, se harán constar en el Registro de conductores e infractores.'),\n",
       "  Document(page_content='Disposición final tercera. Licencia de conducción acompañada. El Gobierno podrá regular las condiciones y los requisitos de la licencia de conducción acompañada para realizar el aprendizaje en la conducción.'),\n",
       "  Document(page_content='Artículo 164. Otras señales. Otras señales de indicación son las siguientes: S-910. Extintor. Indica la situación de un extintor de incendios. S-920. Entrada a España. Indica que se ha entrado en territorio español por una carretera procedente de otro país. S-930. Confirmación del país. Indica el nombre del país hacia el que se dirige la carretera. La cifra en la parte inferior indica la distancia a la que se encuentra la frontera. S-940. Limitaciones de velocidad en España. Indica los límites genéricos de velocidad en las distintas clases de carreteras y en zona urbana en España. S-950. Radiofrecuencia de emisoras específicas de información sobre carreteras. Indica la frecuencia a que hay que conectar el receptor de radiofrecuencia para recibir información. S-960. Teléfono de emergencia. Indica la situación de un teléfono de emergencia. S-970. Apartadero. Indica la situación en un apartadero de un extintor de incendios y teléfono de emergencia. S-980. Salidas de emergencias. Indica la situación de una salida de emergencia. S-990. Cartel flecha indicativa señal de emergencia en túneles. Indica la dirección y distancia a una salida de emergencia.'),\n",
       "  Document(page_content='Artículo 21. Permisos válidos para conducir en España. 1. Son válidos para conducir en España los siguientes permisos de conducción: b) Los nacionales de otros países que estén redactados en castellano o vayan acompañados de una traducción oficial. Se entenderá por traducción oficial la realizada por los intérpretes jurados, por los cónsules de España en el extranjero, por los cónsules en España del país que haya expedido el permiso, o por un organismo o entidad autorizados a tal efecto. c) Los internacionales expedidos en el extranjero de conformidad con el modelo del anexo 10 del Convenio Internacional de Ginebra, de 19 de septiembre de 1949, sobre circulación por carretera, o de acuerdo con los modelos del anexo E de la Convención Internacional de París, de 24 de abril de 1926, para la circulación de automóviles, o del anexo 7 del Convenio Internacional de Viena, de 8 de noviembre de 1968, sobre circulación por carretera, si se trata de naciones adheridas a estos Convenios que no hayan suscrito o prestado adhesión al de Ginebra. d) Los reconocidos en particulares convenios internacionales multilaterales y bilaterales en los que España sea parte y en las condiciones que en ellos se indiquen. b) Que su titular tenga la edad requerida en España para la obtención de un permiso español equivalente. c) Que no haya transcurrido el plazo de seis meses, como máximo, contado desde que su titular adquiera su residencia normal en España, debidamente acreditada de acuerdo con lo dispuesto en la Ley Orgánica 4/2000, de 11 de enero, sobre derechos y libertades de los extranjeros en España y su integración social, salvo que, tratándose de los permisos a que se refiere el párrafo d) del apartado anterior, se haya establecido otra norma en el correspondiente convenio. Si su titular no acreditara la residencia normal en España, aquellos permisos solamente serán válidos para conducir en nuestro país si no han transcurrido más de seis meses desde su entrada en territorio español en situación regular, de acuerdo con lo establecido en la referida Ley Orgánica 4/2000, de 11 de enero.'),\n",
       "  Document(page_content='Artículo 22. Canje de los permisos de conducción por su equivalente español. 1. Una vez transcurrido el plazo indicado en el párrafo c) del apartado 2 del artículo anterior, el titular del permiso de conducción podrá seguir conduciendo en España previo canje del permiso por su equivalente español en los siguientes supuestos: b) Cuando se trate de los permisos a que se hace referencia en el apartado 1. párrafos a) y b) del artículo 21, siempre que su titular reúna los siguientes requisitos: 2.º Que acredite haber estado contratado como conductor profesional, por un tiempo no inferior a seis meses, por empresa o empresas legalmente establecidas o con sucursal en España, las cuales justificarán esta circunstancia aportando, además, los documentos de afiliación y cotización a la Seguridad Social. La consideración de conductor profesional, a los efectos señalados en el párrafo anterior, se entenderá en los términos previstos en el Real Decreto 1032/2007, de 20 de julio, por el que se regula la cualificación inicial y la formación continua de los conductores de determinados vehículos destinados al transporte por carretera. 3.º Que no esté privado por resolución judicial del derecho a conducir vehículos de motor y ciclomotores, ni se halle sometido a suspensión o intervención administrativa del permiso o licencia de conducción que posea.'),\n",
       "  Document(page_content='Artículo 24. Obtención de permiso de conducción español. 1. Los miembros de las Misiones Diplomáticas, de las Oficinas Consulares y de las organizaciones internacionales con sede u oficina en España de países no comunitarios acreditados en España, así como sus ascendientes, descendientes y cónyuge, siempre que sean titulares de un permiso de conducción equivalente, podrán obtener cualquiera de los permisos enumerados en el artículo 4 sin necesidad de abonar tasas ni realizar las correspondientes pruebas de aptitud para verificar sus conocimientos teóricos y prácticos, a condición de reciprocidad. 2. A la solicitud, que se dirigirá al Ministerio de Asuntos Exteriores y de Cooperación, se acompañarán los documentos indicados en el anexo III. Este Departamento, una vez comprobado que concurren los requisitos exigidos, la remitirá a la Jefatura Provincial de Tráfico de Madrid para su tramitación, en unión de la documentación requerida.'),\n",
       "  Document(page_content='Artículo 16. Inscripción de los permisos de conducción en el Registro de Conductores e Infractores. 1. Los titulares de permisos de conducción expedidos en cualquiera de estos Estados que hubieran adquirido su residencia normal en España, sin perjuicio de lo dispuesto en el artículo anterior, podrán solicitar voluntariamente en cualquier Jefatura Provincial de Tráfico la anotación de los datos de su permiso en el Registro de conductores e infractores. 2. A la solicitud de inscripción en el modelo oficial, suscrita por el interesado, se acompañarán los documentos que se indican en el anexo III.'),\n",
       "  Document(page_content='Artículo 23. Procedimiento para solicitar el canje de los permisos de conducción por su permiso equivalente español. 1. El interesado en proceder al canje de su permiso de conducción por su equivalente español deberá dirigir a la Jefatura Provincial del Tráfico que lo desee, su solicitud en el modelo oficial suscrita por el mismo, acompañada de los documentos que se indican en el anexo III. 2. A fin de comprobar la autenticidad, validez y vigencia del permiso de conducción, la Jefatura Provincial de Tráfico podrá solicitar los informes que, en atención a las circunstancias, estime procedentes, incluido el certificado emitido por el organismo que lo hubiera expedido, visado y traducido, en su caso, por la correspondiente oficina diplomática o consular, en el que se especifiquen los vehículos cuya conducción autoriza y demás características del permiso. 3. La Jefatura Provincial de Tráfico a la que se dirija la solicitud, previos los trámites que estime oportunos, concederá o denegará, según proceda, el canje solicitado, circunstancia que, con indicación del país que haya expedido el permiso, los datos de éste y de su titular, se hará constar en el Registro de conductores e infractores. Si en el convenio que, en su caso, existiera no se dispusiera otra cosa, el permiso de conducción original será devuelto al país de expedición. 4. En el permiso de conducción español expedido como consecuencia del canje, así como en las sucesivas prórrogas de vigencia, duplicados o cualquier otro trámite que se realice con éste, se hará constar la circunstancia de que procede del canje de otro permiso de conducción expedido en un país no comunitario.'),\n",
       "  Document(page_content='Artículo 48. Supuestos y requisitos para su concesión. 1. Las personas naturales o jurídicas que sean vendedores de vehículos de motor, ciclomotores, remolques o semirremolques con establecimiento abierto en España para esta actividad, podrán obtener de la Jefatura de Tráfico de la provincia en que tengan su domicilio legal permisos temporales que habilitarán a sus vehículos matriculados en nuestro país y dados de baja temporal por transmisión para circular por el territorio nacional, siempre que se trate de realizar pruebas con terceras personas interesadas en su adquisición. 2. Estos permisos se concederán por el plazo improrrogable de un año, contado desde el día primero del mes siguiente a la fecha de su expedición. Sus titulares están obligados a entregar los permisos y las placas correspondientes en la Jefatura de Tráfico que los hubiera expedido, dentro de los cinco días siguientes contados a partir de la fecha en que haya terminado el plazo de validez. 3. Cada permiso, que ampara la circulación no simultánea de vehículos cualquiera que sea su marca y categoría, se solicitará en impreso oficial que facilitará la Jefatura de Tráfico, a la que se acompañarán los documentos que se establecen en el anexo XVII. La Jefatura de Tráfico, a la vista de los documentos presentados, concederá, si procede, un permiso temporal cuyo modelo y contenido se ajustarán a lo dispuesto en el anexo XVII. 4. Los conductores de los vehículos amparados por este permiso temporal deberán llevar, en unión de dicho documento, el boletín de circulación a que se refiere el artículo 45 del presente Reglamento en el que se hará constar, además de los datos que en el mismo se indican, la matrícula ordinaria del vehículo. Asimismo, deberán llevar la tarjeta de inspección técnica con el reconocimiento en vigor o el certificado de características. Los conductores de los vehículos amparados por este tipo de permisos deberán respetar las condiciones de circulación que se establecen en los apartados 2 y 3 del artículo 46 del presente Reglamento.'),\n",
       "  Document(page_content='Artículo 17. Sustitución del permiso en caso de sustracción, extravío o deterioro del original por el correspondiente español. 1. En caso de sustracción, extravío o deterioro del original, el titular de un permiso de conducción expedido en uno de estos Estados que tenga su residencia normal en España, podrá solicitar la expedición de un duplicado en cualquier Jefatura Provincial de Tráfico, que lo otorgará sobre la base de la información que, en su caso, conste en el Registro de conductores e infractores, completada o suplida, de ser necesario, con un certificado de las autoridades competentes del Estado que haya expedido aquél. Cuando la causa sea el deterioro del original, el permiso sustituido será retirado por la Jefatura Provincial de Tráfico y remitido a las autoridades competentes del Estado que lo hubiera expedido a través de la oficina diplomática o consular. A la solicitud de duplicado se acompañarán los documentos que se indican en el anexo III. 2. El titular de un permiso de conducción al que se le hubiera expedido duplicado por sustracción o extravío deberá devolver el original de éste, cuando lo encuentre, a la Jefatura Provincial de Tráfico que hubiere expedido el duplicado, la cual procederá a devolverlo a las autoridades competentes del Estado que lo haya expedido, a través de la oficina diplomática o consular, indicando los motivos por los que se ha sustituido.'),\n",
       "  Document(page_content='Artículo 50. Placas de matrícula, distintivos y documentación. 1. Vehículos a motor matriculados en España y sus remolques: El signo distintivo de la nacionalidad española del vehículo se ajustará en cuanto a sus caracteres, dimensiones y colocación a lo dispuesto en el anexo XI. b) Los conductores de los vehículos mencionados deberán llevar el permiso de circulación expedido por las Jefaturas de Tráfico con arreglo al artículo 28 de este Reglamento. La composición del número de matrícula y la forma en que ésta haya de exhibirse son las determinadas en el anejo 3 del referido Convenio Internacional. Salvo en aquellos casos en que figuren inscritos en sus placas de matrícula la sigla distintiva del Estado de la Unión Europea al que pertenecen y el símbolo representativo de la bandera de aquélla de acuerdo con la reglamentación que se recoge en el anexo I, los vehículos a motor aludidos deberán llevar, además, en su parte posterior el signo distintivo de la nacionalidad de su matrícula. Cuando vaya seguido de uno o de varios remolques, el signo distintivo deberá repetirse detrás del remolque único o último. El signo distintivo de la nacionalidad extranjera del vehículo se ajustará en cuanto a sus caracteres, dimensiones y colocación a lo dispuesto en el anexo XI. b) Los conductores de los vehículos a motor a que se refiere este apartado deberán ser portadores del certificado de matrícula, expedido por las autoridades competentes de su país o por una asociación legalmente habilitada al efecto. En estos certificados deberá figurar, por lo menos, el número de matrícula del vehículo, el nombre o marca del constructor de éste, el número de fabricación y el número de serie del constructor y la fecha en que el vehículo fue primeramente matriculado, así como el nombre, apellidos y domicilio permanente del titular del certificado. Los certificados de matrícula expedidos en las condiciones precedentes serán aceptados en España como presunción legal de la exactitud de los datos correspondientes. c) Los vehículos a motor que procedentes de Estados parte en el Convenio hayan de circular por España deberán llevar las siguientes marcas de identificación: 2. En el chasis o, a falta de chasis, en la carrocería, el número de identificación o de serie del fabricante. 3. En el motor, el número de fabricación del motor, si el fabricante lo estampa en él. Las marcas mencionadas deberán estar en lugares accesibles y ser fácilmente legibles y de difícil modificación o supresión. 3. Vehículos a motor extranjeros matriculados en Estados que no sean parte del Convenio Internacional de Ginebra y sus remolques: Los vehículos a motor matriculados en cualquiera de los Estados que no sean parte del de Ginebra, de 19 de septiembre de 1949, podrán circular en España bien en las condiciones previstas en el apartado anterior, bien en las establecidas en el Convenio Internacional de Viena de 8 de noviembre de 1968 si se trata de Estados parte en este Convenio, o en las que se indiquen en particulares Convenios Internacionales. El signo distintivo de la nacionalidad extranjera de los vehículos pertenecientes al Convenio Internacional de Viena se ajustará en cuanto a sus caracteres, dimensiones y colocación a lo dispuesto en el anexo XI y, en su caso, a la reglamentación que se recoge en el anexo I.'),\n",
       "  Document(page_content='Artículo 32. Requisitos para obtener el permiso internacional para conducir. Para obtener el permiso internacional para conducir se requerirá: b) Ser titular de un permiso de conducción nacional de igual clase que la del internacional que solicita, válido y en vigor, o de un permiso expedido en otro Estado miembro de la Unión Europea o en otro Estado parte del Acuerdo sobre el Espacio Económico Europeo que previamente ha de ser inscrito en el Registro de conductores e infractores. c) No estar privado por resolución judicial del derecho a conducir vehículos de motor y ciclomotores, ni hallarse sometido a suspensión o intervención administrativa del permiso nacional que se posea.'),\n",
       "  Document(page_content='Artículo 33. Tramitación. 1. Toda persona natural o jurídica que sea titular de un vehículo matriculado en España y lo entregue, para su posterior transmisión, a un vendedor de vehículos con establecimiento abierto en España para esta actividad deberá solicitar, en el plazo de diez días desde la entrega, la baja temporal del mismo, de acuerdo con lo previsto en el artículo 36, apartado 2, a), de este Reglamento. A la solicitud de baja temporal, que se dirigirá a la Jefatura de Tráfico de la provincia del domicilio legal del peticionario o a aquélla en que fue matriculado el vehículo, y en la que se deberá hacer constar la identidad y domicilio del titular del vehículo y del compraventa, así como la fecha de la entrega de aquél, se acompañará el documento acreditativo de la misma, el permiso o licencia de circulación, que quedará archivado en la Jefatura, el del cumplimiento de las correspondientes obligaciones tributarias y demás documentación que se indica en el anexo XIV. Si el transmitente incumpliera la obligación señalada anteriormente, sin perjuicio de que se instruya el correspondiente procedimiento sancionador, seguirá siendo considerado titular del vehículo transmitido a los efectos de la legislación sobre tráfico, circulación de vehículos a motor y seguridad vial, en tanto no se inscriba el mismo a nombre de otra persona a solicitud de ésta, acompañando documento probatorio de la adquisición y demás documentación establecida en el apartado 3. 2. La Jefatura de Tráfico a la que se dirija la anterior solicitud, con los documentos preceptivos, anotará en el Registro de Vehículos la baja temporal por transmisión, así como la identidad y domicilio del compraventa, que aparecerá como poseedor del vehículo, salvo que conste la existencia de alguno de los impedimentos que se recogen en el apartado 7 del artículo 32 de este Reglamento, en cuyo caso no se procederá a efectuar las citadas anotaciones hasta que se haya cancelado o solventado dicho impedimento, mediante la presentación de los documentos que se recogen en el apartado IV del anexo XIV. La baja temporal por transmisión será comunicada por la Jefatura de Tráfico al Ayuntamiento del domicilio legal del transmitente. El vehículo dado de baja temporal por transmisión sólo podrá circular, salvo que se haya acordado su precinto por una autoridad judicial o administrativa, amparado por un permiso y placas temporales de empresa regulados en el artículo 48 de este Reglamento y en las condiciones que se determinan en el mismo. 3. En el caso de consumarse la venta del vehículo, el adquirente deberá solicitar de la Jefatura de Tráfico de la provincia de su domicilio legal o de aquélla en que se matriculó el vehículo, dentro del plazo de treinta días desde la adquisición, la inscripción de dicho vehículo a su nombre y la consecuente renovación del permiso o licencia de circulación, haciendo constar su identidad y domicilio, así como los del transmitente y compraventa, y el título de dicha transmisión. El vehículo no podrá circular salvo que disponga del nuevo permiso o licencia de circulación. Junto a la solicitud deberá presentar los documentos acreditativos del cumplimiento de las correspondientes obligaciones tributarias, el de la adquisición y, en su caso, el justificativo de que el vehículo cumple los requisitos para obtener o que cuenta con el correspondiente título habilitante para la realización de alguna actividad de transporte o de arrendamiento sin conductor, así como los que se determinan en el anexo XIV. 4. La Jefatura de Tráfico a la que se haya dirigido la solicitud del adquirente, junto a la documentación exigida en el anexo XIV, efectuará el cambio de titularidad en el Registro de Vehículos si antes no se hubiera realizado a instancia del compraventa, y expedirá un nuevo permiso o licencia de circulación a su nombre, comunicándolo al Ayuntamiento del domicilio legal del adquirente. La anotación de cualquiera de las limitaciones de disposición a que se refiere el apartado 7 del artículo 32 de este Reglamento, que se constituya sobre el vehículo en el momento de la adquisición, deberá solicitarse presentando los documentos que se recogen en el apartado III del anexo XIV. Transcurrido el plazo de treinta días desde la adquisición del vehículo sin que el adquirente haya cumplido la obligación prevista en el párrafo primero de este apartado, se ordenará la inmovilización del vehículo, se iniciará el correspondiente procedimiento sancionador y se anotará en el Registro de Vehículos al adquirente como nuevo titular, sin perjuicio de exigirle las responsabilidades que como tal le correspondan. 5. Cuando la transmisión afecte a un vehículo sobre el que previamente se haya trabado embargo por una autoridad judicial o administrativa inscrito en el Registro de Vehículos, la Jefatura de Tráfico efectuará el cambio de titularidad y renovará el permiso o licencia de circulación, debiendo notificar la existencia del embargo al adquirente, y la identificación y domicilio de éste a la autoridad que lo acordó. Si la transmisión afecta a un vehículo sobre el que previamente se haya acordado el precinto por una autoridad judicial o administrativa inscrito en el Registro de Vehículos, la Jefatura de Tráfico efectuará el cambio de titularidad sin expedir un nuevo permiso o licencia de circulación, debiendo notificar la existencia de dicha traba al adquirente y la identificación y domicilio de éste a la autoridad que lo acordó. 6. Si el compraventa solicita figurar como titular del vehículo en el Registro, se seguirá la tramitación establecida en el artículo 32 del presente Reglamento. En todo caso, deberá solicitar el cambio de titularidad a su nombre cuando haya transcurrido más de un año desde que se haya producido la baja temporal del vehículo sin haberse transmitido a un tercero. 1. Toda persona natural o jurídica que sea titular de un vehículo matriculado en España y lo entregue, para su posterior transmisión, a un vendedor de vehículos con establecimiento abierto en España para esta actividad deberá solicitar, en el plazo de diez días desde la entrega, la baja temporal del mismo, de acuerdo con lo previsto en el artículo 36, apartado 2, a), de este Reglamento. A la solicitud de baja temporal, que se dirigirá a la Jefatura de Tráfico de la provincia del domicilio legal del peticionario o a aquélla en que fue matriculado el vehículo, y en la que se deberá hacer constar la identidad y domicilio del titular del vehículo y del compraventa, así como la fecha de la entrega de aquél, se acompañará el documento acreditativo de la misma, el permiso o licencia de circulación, que quedará archivado en la Jefatura, el del cumplimiento de las correspondientes obligaciones tributarias y demás documentación que se indica en el anexo XIV. Si el transmitente incumpliera la obligación señalada anteriormente, sin perjuicio de que se instruya el correspondiente procedimiento sancionador, seguirá siendo considerado titular del vehículo transmitido a los efectos de la legislación sobre tráfico, circulación de vehículos a motor y seguridad vial, en tanto no se inscriba el mismo a nombre de otra persona a solicitud de ésta, acompañando documento probatorio de la adquisición y demás documentación establecida en el apartado 3. 2. La Jefatura de Tráfico a la que se dirija la anterior solicitud, con los documentos preceptivos, anotará en el Registro de Vehículos la baja temporal por transmisión, así como la identidad y domicilio del compraventa, que aparecerá como poseedor del vehículo, salvo que conste la existencia de alguno de los impedimentos que se recogen en el apartado 7 del artículo 32 de este Reglamento, en cuyo caso no se procederá a efectuar las citadas anotaciones hasta que se haya cancelado o solventado dicho impedimento, mediante la presentación de los documentos que se recogen en el apartado IV del anexo XIV. La baja temporal por transmisión será comunicada por la Jefatura de Tráfico al Ayuntamiento del domicilio legal del transmitente. El vehículo dado de baja temporal por transmisión sólo podrá circular, salvo que se haya acordado su precinto por una autoridad judicial o administrativa, amparado por un permiso y placas temporales de empresa regulados en el artículo 48 de este Reglamento y en las condiciones que se determinan en el mismo. 3. En el caso de consumarse la venta del vehículo, el adquirente deberá solicitar de la Jefatura de Tráfico de la provincia de su domicilio legal o de aquélla en que se matriculó el vehículo, dentro del plazo de treinta días desde la adquisición, la inscripción de dicho vehículo a su nombre y la consecuente renovación del permiso o licencia de circulación, haciendo constar su identidad y domicilio, así como los del transmitente y compraventa, y el título de dicha transmisión. El vehículo no podrá circular salvo que disponga del nuevo permiso o licencia de circulación. Junto a la solicitud deberá presentar los documentos acreditativos del cumplimiento de las correspondientes obligaciones tributarias, el de la adquisición y, en su caso, el justificativo de que el vehículo cumple los requisitos para obtener o que cuenta con el correspondiente título habilitante para la realización de alguna actividad de transporte o de arrendamiento sin conductor, así como los que se determinan en el anexo XIV. 4. La Jefatura de Tráfico a la que se haya dirigido la solicitud del adquirente, junto a la documentación exigida en el anexo XIV, efectuará el cambio de titularidad en el Registro de Vehículos si antes no se hubiera realizado a instancia del compraventa, y expedirá un nuevo permiso o licencia de circulación a su nombre, comunicándolo al Ayuntamiento del domicilio legal del adquirente. La anotación de cualquiera de las limitaciones de disposición a que se refiere el apartado 7 del artículo 32 de este Reglamento, que se constituya sobre el vehículo en el momento de la adquisición, deberá solicitarse presentando los documentos que se recogen en el apartado III del anexo XIV. Transcurrido el plazo de treinta días desde la adquisición del vehículo sin que el adquirente haya cumplido la obligación prevista en el párrafo primero de este apartado, se ordenará la inmovilización del vehículo, se iniciará el correspondiente procedimiento sancionador y se anotará en el Registro de Vehículos al adquirente como nuevo titular, sin perjuicio de exigirle las responsabilidades que como tal le correspondan. 5. Cuando la transmisión afecte a un vehículo sobre el que previamente se haya trabado embargo por una autoridad judicial o administrativa inscrito en el Registro de Vehículos, la Jefatura de Tráfico efectuará el cambio de titularidad y renovará el permiso o licencia de circulación, debiendo notificar la existencia del embargo al adquirente, y la identificación y domicilio de este a la autoridad que lo acordó. Si la transmisión afecta a un vehículo sobre el que previamente se haya acordado el precinto por una autoridad judicial o administrativa inscrito en el Registro de Vehículos, la Jefatura de Tráfico efectuará el cambio de titularidad sin expedir un nuevo permiso o licencia de circulación, debiendo notificar la existencia de dicha traba al adquirente y la identificación y domicilio de este a la autoridad que lo acordó. Si la transmisión afecta a un vehículo que ha sido previamente declarado como siniestro total por una entidad aseguradora, tras un accidente u otra causa, cuando el vehículo haya sufrido un daño importante que pueda afectar a algún elemento de seguridad, solamente se practicará el cambio de titularidad si se acredita haber superado favorablemente una inspección ITV con fecha posterior a la declaración de siniestro total. 6. Si el compraventa solicita figurar como titular del vehículo en el Registro, se seguirá la tramitación establecida en el artículo 32 del presente Reglamento. En todo caso, deberá solicitar el cambio de titularidad a su nombre cuando haya transcurrido más de un año desde que se haya producido la baja temporal del vehículo sin haberse transmitido a un tercero.'),\n",
       "  Document(page_content='Artículo 20. Remisión del permiso canjeado. Efectuado el canje del permiso de conducción por otro español equivalente, ya sea de oficio o a solicitud de su titular, se remitirá el permiso canjeado por la Jefatura Provincial de Tráfico a las autoridades competentes del Estado que lo haya expedido, a través de la oficina diplomática o consular, indicando los motivos del canje efectuado.'),\n",
       "  Document(page_content='Artículo 11. Funciones del Consorcio de Compensación de Seguros. 1. Corresponde al Consorcio de Compensación de Seguros, dentro del ámbito territorial y hasta el límite cuantitativo del aseguramiento obligatorio: b) Indemnizar los daños a las personas y en los bienes, ocasionados con un vehículo que tenga su estacionamiento habitual en España, así como los ocasionados dentro del territorio español a personas con residencia habitual en España o a bienes de su propiedad situados en España con un vehículo con estacionamiento habitual en un tercer país no firmante del Acuerdo entre las oficinas nacionales de seguros de los Estados miembros del Espacio Económico y de otros Estados asociados, en ambos casos cuando dicho vehículo no esté asegurado. c) Indemnizar los daños a las personas y en los bienes producidos por un vehículo con estacionamiento habitual en España que esté asegurado y haya sido robado. d) Indemnizar los daños a las personas y en los bienes cuando, en supuestos incluidos dentro del ámbito del aseguramiento de suscripción obligatoria o en los párrafos precedentes de este artículo, surgiera controversia entre el Consorcio de Compensación de Seguros y la entidad aseguradora acerca de quién debe indemnizar al perjudicado. No obstante lo anterior, si ulteriormente se resuelve o acuerda que corresponde indemnizar a la entidad aseguradora, esta reembolsará al Consorcio de Compensación de Seguros la cantidad indemnizada más los intereses legales, incrementados en un 25 por ciento, desde la fecha en que abonó la indemnización. e) Indemnizar los daños a las personas y en los bienes cuando la entidad española aseguradora del vehículo con estacionamiento habitual en España hubiera sido declarada judicialmente en concurso o, habiendo sido disuelta y encontrándose en situación de insolvencia, estuviese sujeta a un procedimiento de liquidación intervenida o esta hubiera sido asumida por el propio Consorcio de Compensación de Seguros. f) Reembolsar las indemnizaciones satisfechas a los perjudicados residentes en otros Estados del Espacio Económico Europeo por los organismos de indemnización, en los siguientes supuestos: 2.º Cuando el accidente haya ocurrido en España, en el caso de que no pueda identificarse el vehículo causante. 3.º Cuando el accidente haya ocurrido en España, en el caso de vehículos con estacionamiento habitual en terceros países adheridos al sistema de Certificado internacional del seguro del automóvil, expedido por una oficina nacional conforme a la recomendación número 5, adoptada el 25 de enero de 1949 por el Subcomité de transportes por carretera del Comité de transportes interiores de la Comisión Económica para Europa de la Organización de las Naciones Unidas (en adelante, carta verde). 2. El Consorcio de Compensación de Seguros asumirá las funciones que como organismo de información le atribuyen los artículos 24 y 25 de esta ley. 3. El perjudicado tendrá acción directa contra el Consorcio de Compensación de Seguros en los casos señalados en este artículo, y este podrá repetir en los supuestos definidos en el artículo 10, así como contra el propietario y el responsable del accidente cuando se trate de vehículo no asegurado, o contra los autores, cómplices o encubridores del robo del vehículo causante del siniestro, así como contra el responsable del accidente que conoció de la sustracción de aquel. 4. El Consorcio no podrá condicionar el pago de la indemnización a la prueba por parte del perjudicado de que la persona responsable no puede pagar o se niega a hacerlo. 1. Corresponde al Consorcio de Compensación de Seguros, dentro del ámbito territorial y hasta el límite cuantitativo del aseguramiento obligatorio: a) Indemnizar a quienes hubieran sufrido daños en sus personas, por siniestros ocurridos en España, en aquellos casos en que el vehículo causante sea desconocido. No obstante, si como consecuencia de un accidente causado por un vehículo desconocido se hubieran derivado daños personales significativos, el Consorcio de Compensación de Seguros habrá de indemnizar también los eventuales daños en los bienes derivados del mismo accidente. En este último caso, podrá fijarse reglamentariamente una franquicia no superior a 500 euros. Se considerarán daños personales significativos la muerte, la incapacidad permanente o la incapacidad temporal que requiera, al menos, una estancia hospitalaria superior a siete días. b) Indemnizar los daños en las personas y en los bienes, ocasionados con un vehículo que tenga su estacionamiento habitual en España, así como los ocasionados dentro del territorio español a personas con residencia habitual en España o a bienes de su propiedad situados en España con un vehículo con estacionamiento habitual en un tercer país no firmante del Acuerdo entre las oficinas nacionales de seguros de los Estados miembros del Espacio Económico Europeo y de otros Estados asociados, en ambos casos cuando dicho vehículo no esté asegurado. c) Indemnizar los daños a las personas y en los bienes ocasionados por un vehículo con estacionamiento habitual en España que esté asegurado y haya sido objeto de robo o robo de uso. d) Indemnizar los daños a las personas y en los bienes cuando, en supuestos incluidos dentro del ámbito del aseguramiento de suscripción obligatoria o en los párrafos precedentes de este artículo, surgiera controversia entre el Consorcio de Compensación de Seguros y la entidad aseguradora acerca de quién debe indemnizar al perjudicado. No obstante lo anterior, si ulteriormente se resuelve o acuerda que corresponde indemnizar a la entidad aseguradora, ésta reembolsará al Consorcio de Compensación de Seguros la cantidad indemnizada más los intereses legales, incrementados en un 25 por 100, desde la fecha en que abonó la indemnización. e) Indemnizar los daños a las personas y en los bienes cuando la entidad española aseguradora del vehículo con estacionamiento habitual en España hubiera sido declarada judicialmente en concurso o, habiendo sido disuelta y encontrándose en situación de insolvencia, estuviera sujeta a un procedimiento de liquidación intervenida o ésta hubiera sido asumida por el propio Consorcio de Compensación de Seguros. f) Reembolsar las indemnizaciones satisfechas a los perjudicados residentes en otros Estados del Espacio Económico Europeo por los organismos de indemnización, en los siguientes supuestos: 1.º Cuando el vehículo causante del accidente tenga su estacionamiento habitual en España, en el caso de que no pueda identificarse a la entidad aseguradora. 2.º Cuando el accidente haya ocurrido en España, en el caso de que no pueda identificarse al vehículo causante. 3.º Cuando el accidente haya ocurrido en España, en el caso de vehículos con estacionamiento habitual en terceros países adheridos al sistema de certificado internacional del seguro del automóvil (en adelante, carta verde) y no pueda identificarse a la entidad aseguradora. g) Indemnizar los daños a las personas y en los bienes derivados de accidentes ocasionados por un vehículo importado a España desde otro Estado miembro del Espacio Económico Europeo, siempre que el vehículo no esté asegurado y el accidente haya ocurrido dentro del plazo de 30 días a contar desde que el comprador aceptó la entrega del vehículo. En los supuestos previstos en los párrafos b) y\\xa0c), quedarán excluidos de la indemnización por el Consorcio los daños a las personas y en los bienes sufridos por quienes ocuparan voluntariamente el vehículo causante del siniestro, conociendo que éste no estaba asegurado o que había sido robado, siempre que el Consorcio probase que aquellos conocían tales circunstancias. 2. El Consorcio de Compensación de Seguros asumirá las funciones que como organismo de información le atribuyen los artículos 24 y 25 de esta Ley. 3. El perjudicado tendrá acción directa contra el Consorcio de Compensación de Seguros en los casos señalados en este artículo, y éste podrá repetir en los supuestos definidos en el artículo 10 de esta Ley, así como contra el propietario y el responsable del accidente cuando se trate de vehículo no asegurado, o contra los autores, cómplices o encubridores del robo o robo de uso del vehículo causante del siniestro, así como contra el responsable del accidente que conoció de la sustracción de aquel. 4. En los casos de repetición por el Consorcio de Compensación de Seguros será de aplicación el plazo de prescripción establecido en el artículo 10 de esta Ley. 5. El Consorcio no podrá condicionar el pago de la indemnización a la prueba por parte del perjudicado de que la persona responsable no puede pagar o se niega a hacerlo. 6. Corresponde al Consorcio de Compensación de Seguros el fomento del aseguramiento de suscripción obligatoria de los vehículos a motor. \\xa0 1. Corresponde al Consorcio de Compensación de Seguros, dentro del ámbito territorial y hasta el límite cuantitativo del aseguramiento obligatorio: No obstante, si como consecuencia de un accidente causado por un vehículo desconocido se hubieran derivado daños personales significativos, el Consorcio de Compensación de Seguros habrá de indemnizar también los eventuales daños en los bienes derivados del mismo accidente. En este último caso, podrá fijarse reglamentariamente una franquicia no superior a 500 euros. Se considerarán daños personales significativos la muerte, la incapacidad permanente o la incapacidad temporal que requiera, al menos, una estancia hospitalaria superior a siete días. b) Indemnizar los daños en las personas y en los bienes, ocasionados con un vehículo que tenga su estacionamiento habitual en España, así como los ocasionados dentro del territorio español a personas con residencia habitual en España o a bienes de su propiedad situados en España con un vehículo con estacionamiento habitual en un tercer país no firmante del Acuerdo entre las oficinas nacionales de seguros de los Estados miembros del Espacio Económico Europeo y de otros Estados asociados, en ambos casos cuando dicho vehículo no esté asegurado. c) Indemnizar los daños, a las personas y en los  bienes, ocasionados en España por un vehículo que esté asegurado y haya  sido objeto de robo o robo de uso. Los daños a las personas y en los bienes  ocasionados en otro Estado por un vehículo con estacionamiento habitual  en España que esté asegurado y haya sido robado o robado de uso se  indemnizarán por el Consorcio de Compensación de Seguros cuando el fondo  nacional de garantía de ese Estado no asuma funciones de indemnización  de los daños producidos por vehículos robados. d) Indemnizar los daños a las personas y en los bienes cuando, en supuestos incluidos dentro del ámbito del aseguramiento de suscripción obligatoria o en los párrafos precedentes de este artículo, surgiera controversia entre el Consorcio de Compensación de Seguros y la entidad aseguradora acerca de quién debe indemnizar al perjudicado. No obstante lo anterior, si ulteriormente se resuelve o acuerda que corresponde indemnizar a la entidad aseguradora, ésta reembolsará al Consorcio de Compensación de Seguros la cantidad indemnizada más los intereses legales, incrementados en un 25 por 100, desde la fecha en que abonó la indemnización. e) Indemnizar los daños a las personas y en los bienes cuando la entidad española aseguradora del vehículo con estacionamiento habitual en España hubiera sido declarada judicialmente en concurso o, habiendo sido disuelta y encontrándose en situación de insolvencia, estuviera sujeta a un procedimiento de liquidación intervenida o ésta hubiera sido asumida por el propio Consorcio de Compensación de Seguros. f) Reembolsar las indemnizaciones satisfechas a los perjudicados residentes en otros Estados del Espacio Económico Europeo por los organismos de indemnización, en los siguientes supuestos: 2.º Cuando el accidente haya ocurrido en España, en el caso de que no pueda identificarse al vehículo causante. 3.º Cuando el accidente haya ocurrido en España, en el caso de vehículos con estacionamiento habitual en terceros países adheridos al sistema de certificado internacional del seguro del automóvil (en adelante, carta verde) y no pueda identificarse a la entidad aseguradora. 2. El Consorcio de Compensación de Seguros asumirá las funciones que como organismo de información le atribuyen los artículos 24 y 25 de esta Ley. 3. El perjudicado tendrá acción directa contra el Consorcio de Compensación de Seguros en los casos señalados en este artículo, y éste podrá repetir en los supuestos definidos en el artículo 10 de esta Ley, así como contra el propietario y el responsable del accidente cuando se trate de vehículo no asegurado, o contra los autores, cómplices o encubridores del robo o robo de uso del vehículo causante del siniestro, así como contra el responsable del accidente que conoció de la sustracción de aquel. 4. En los casos de repetición por el Consorcio de Compensación de Seguros será de aplicación el plazo de prescripción establecido en el artículo 10 de esta Ley. 5. El Consorcio no podrá condicionar el pago de la indemnización a la prueba por parte del perjudicado de que la persona responsable no puede pagar o se niega a hacerlo. 6. Corresponde al Consorcio de Compensación de Seguros el fomento del aseguramiento de suscripción obligatoria de los vehículos a motor.')],\n",
       " 'answer': 'Si eres de India y tienes carné de conducir de allí, puedes conducir en España durante seis meses como máximo desde que te establezcas a vivir aquí.  Eso sí, tu carné debe estar en español o con traducción oficial y tienes que tener la edad mínima para conducir en España ese tipo de vehículo. Pasado ese tiempo, tienes que cambiarlo por uno español. \\n'}"
      ]
     },
     "execution_count": 31,
     "metadata": {},
     "output_type": "execute_result"
    }
   ],
   "source": [
    "response"
   ]
  },
  {
   "cell_type": "code",
   "execution_count": null,
   "id": "7a0f9310-c7ca-4937-baf1-0678bb70a6ed",
   "metadata": {},
   "outputs": [],
   "source": []
  }
 ],
 "metadata": {
  "kernelspec": {
   "display_name": "Python 3 (ipykernel)",
   "language": "python",
   "name": "python3"
  },
  "language_info": {
   "codemirror_mode": {
    "name": "ipython",
    "version": 3
   },
   "file_extension": ".py",
   "mimetype": "text/x-python",
   "name": "python",
   "nbconvert_exporter": "python",
   "pygments_lexer": "ipython3",
   "version": "3.11.5"
  }
 },
 "nbformat": 4,
 "nbformat_minor": 5
}
