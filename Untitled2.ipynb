{
 "cells": [
  {
   "cell_type": "code",
   "execution_count": 21,
   "id": "b01a1b7c-e3cf-4b08-8bc3-42b55b482ec0",
   "metadata": {},
   "outputs": [
    {
     "data": {
      "text/plain": [
       "False"
      ]
     },
     "execution_count": 21,
     "metadata": {},
     "output_type": "execute_result"
    }
   ],
   "source": [
    "import streamlit as st\n",
    "import warnings\n",
    "import configparser\n",
    "import os\n",
    "import logging\n",
    "import random\n",
    "import string\n",
    "import time\n",
    "from langchain_core.chat_history import BaseChatMessageHistory\n",
    "from langchain_google_genai import GoogleGenerativeAIEmbeddings\n",
    "from langchain_community.vectorstores import FAISS\n",
    "from langchain_google_genai import ChatGoogleGenerativeAI\n",
    "from langchain_core.prompts import ChatPromptTemplate, MessagesPlaceholder\n",
    "from langchain.chains import create_history_aware_retriever, create_retrieval_chain\n",
    "from langchain.chains.combine_documents import create_stuff_documents_chain\n",
    "from langchain_core.runnables.history import RunnableWithMessageHistory\n",
    "from langchain_community.chat_message_histories import ChatMessageHistory\n",
    "from dotenv import load_dotenv\n",
    "from langchain_community.llms import Ollama\n",
    "\n",
    "\n",
    "load_dotenv() # Loads .env file"
   ]
  },
  {
   "cell_type": "code",
   "execution_count": 22,
   "id": "46af5f1d-18e5-4460-bae0-3c5467e79b8f",
   "metadata": {},
   "outputs": [],
   "source": [
    "from langchain_huggingface import HuggingFaceEmbeddings"
   ]
  },
  {
   "cell_type": "code",
   "execution_count": 23,
   "id": "2238e883-4254-48f2-bc05-274b286c76c8",
   "metadata": {},
   "outputs": [],
   "source": [
    "GOOGLE_API_KEY = \"\"\n",
    "MODEL_EMBEDDINGS_GOOGLE = \"models/embedding-001\"\n",
    "MODEL_LLM_GOOGLE = \"gemini-1.5-pro\"\n",
    "OUTPUT_PATH = \"output\"\n",
    "FAISS_GOOGLE_PATH = \"output/faiss_index\"\n",
    "NUMEXPR_MAX_THREADS = \"16\"\n",
    "TASK_TYPES = [\"task_type_unspecified\", \"retrieval_query\", \"retrieval_document\", \"semantic_similarity\", \"classification\", \"clustering\"]"
   ]
  },
  {
   "cell_type": "code",
   "execution_count": 24,
   "id": "ad7a1b88-f680-4893-b76c-137b6fa5f9e4",
   "metadata": {},
   "outputs": [],
   "source": [
    "CONTEXTUALIZE_Q_SYSTEM_PROMPT = \"\"\"Dado un historial de chat y la última pregunta del usuario que podría referenciar contexto en dicho historial, reformula la pregunta para que sea independiente y comprensible sin necesidad de acceder al historial. No respondas la pregunta; solo reformúlala si es necesario, o devuélvela tal como está si ya es clara.\n",
    "\"\"\""
   ]
  },
  {
   "cell_type": "code",
   "execution_count": 48,
   "id": "f3cc5988-c693-407f-9ff5-bcdbcac63eed",
   "metadata": {},
   "outputs": [],
   "source": [
    "PROMPT_TEMPLATE_GOOGLE = \"\"\"Eres un asistente inteligente. Responde a la pregunta basándote únicamente en la información \n",
    "proporcionada en el contexto, específico para España.\n",
    "Siempre prioriza mencionar artículos o leyes que estén directamente relacionados con la pregunta del usuario.\n",
    "Si el contexto no contiene la respuesta, responde con: \"La respuesta no está disponible en el contexto proporcionado.\"\n",
    "Si la pregunta se refiere a un tema legal, intenta identificar y citar el artículo de la ley que aplique.\n",
    "Genera las respuestas con tus propias palabras, sin copiar directamente el contenido, y asegúrate de que sean claras, fáciles de entender y \n",
    "aplicables a un público juvenil.\n",
    "Por ejemplo, si la respuesta fuera el Artículo 48, responde \"Artículo 48. Velocidades máximas en vías fuera de poblado.\" y la explicas.\n",
    "\n",
    "Contexto:\n",
    "{context}\n",
    "\"\"\""
   ]
  },
  {
   "cell_type": "markdown",
   "id": "6ff2abee-1e21-4ca5-82c3-3235b7a50612",
   "metadata": {},
   "source": [
    "CONTEXTUALIZE_Q_SYSTEM_PROMPT = \"\"\"Given a chat history and the latest user question which might reference context in the chat history, formulate a standalone question which can be understood without the chat history. Do NOT answer the question, just reformulate it if needed and otherwise return it as is.\"\"\""
   ]
  },
  {
   "cell_type": "code",
   "execution_count": 26,
   "id": "1d12efca-9496-4dc8-8b25-be4a75ec2b35",
   "metadata": {},
   "outputs": [],
   "source": [
    "'''\n",
    "PROMPT_TEMPLATE_GOOGLE = \"\"\"You are an intelligent assistant. Answer the question based solely on the information provided in the context, specific for Spain.\n",
    "Do not add any information beyond what is given. \n",
    "If the context does not contain the answer, respond with: \"The answer is not available in the provided context.\"\n",
    "Be concise and accurate. All the answers must be in Spanish language from Spain, in an informal manner.\n",
    "Answers must be clear, precise, and unambiguous, and a teenager should be able to understand the answer.\n",
    "Explicitly avoid phrases such as \"según el documento\", \"según el capítulo\", \"en el texto\", \"como se menciona en el artículo\", or any implication of external texts. Do not construct questions that require knowledge of the structure of the document or the location of information in it.\n",
    "Include the content-specific information that supports the answer to allow the answer to be independent of any external text.\n",
    "If the content lacks sufficient information to form a complete answer, do not force one.\n",
    "Create the answers in your own words; Direct copying of content is not permitted.\n",
    "NEVER mention the words \"documento\", \"texto\", \"presentación\", \"archivo\", \"tabla\", \"artículo\", \"ley\", \"capítulo\", \"preámbulo\", \"título preliminar\", \"disposición\" or \"disposiciones generales\" in your questions or answers.\n",
    "ALWAYS make sure that all answers are accurate, self-contained, and relevant, without relying on any original document or text or implying its existence, strictly avoiding any invention or speculation.\n",
    "IMPORTANT: if in the question there is no mention of a Comunidad Autonoma or the name of a city or province, try that the answer applies to Spain as a country.\n",
    "\n",
    "Context:\n",
    "{context}\n",
    "\"\"\"\n",
    "'''\n",
    "PROMPT_TEMPLATE_LLAMA = \"\"\"You are an intelligent assistant. Answer the question based solely on the information provided in the context, specific for Spain.\n",
    "Do not add any information beyond what is given. \n",
    "If the context does not contain the answer, respond with: \"The answer is not available in the provided context.\"\n",
    "Be concise and accurate. All the answers must be in Spanish language from Spain, in an informal manner.\n",
    "Answers must be clear, precise, and unambiguous, and a teenager should be able to understand the answer.\n",
    "Explicitly avoid phrases such as \"según el documento\", \"según el capítulo\", \"en el texto\", \"como se menciona en el artículo\", or any implication of external texts. Do not construct questions that require knowledge of the structure of the document or the location of information in it.\n",
    "Include the content-specific information that supports the answer to allow the answer to be independent of any external text.\n",
    "If the content lacks sufficient information to form a complete answer, do not force one.\n",
    "Create the answers in your own words; Direct copying of content is not permitted.\n",
    "NEVER mention the words \"documento\", \"texto\", \"presentación\", \"archivo\", \"tabla\", \"artículo\", \"ley\", \"capítulo\", \"preámbulo\", \"título preliminar\", \"disposición\" or \"disposiciones generales\" in your questions or answers.\n",
    "ALWAYS make sure that all answers are accurate, self-contained, and relevant, without relying on any original document or text or implying its existence, strictly avoiding any invention or speculation.\n",
    "IMPORTANT: if in the question there is no mention of a Comunidad Autonoma or the name of a city or province, try that the answer applies to Spain as a country.\n",
    "\n",
    "Context:\n",
    "{context}\n",
    "\n",
    "\"\"\""
   ]
  },
  {
   "cell_type": "code",
   "execution_count": 27,
   "id": "615cebbb-fcc6-4ac9-b950-df5f155320ac",
   "metadata": {},
   "outputs": [],
   "source": [
    "store = {}"
   ]
  },
  {
   "cell_type": "code",
   "execution_count": 28,
   "id": "46b0005c-8a5a-49ba-9fb3-c5031d58ba26",
   "metadata": {},
   "outputs": [],
   "source": [
    "def load_config():\n",
    "    global GOOGLE_API_KEY\n",
    "    global MODEL_EMBEDDINGS_GOOGLE\n",
    "    global OUTPUT_PATH\n",
    "    global FAISS_GOOGLE_PATH\n",
    "    global LOG_PATH\n",
    "    global NUMEXPR_MAX_THREADS\n",
    "    \n",
    "    config = configparser.ConfigParser()\n",
    "    config.read('streamlit_google_history_final.ini')\n",
    "    GOOGLE_API_KEY = config['KEYS']['google_api_key']\n",
    "    MODEL_EMBEDDINGS_GOOGLE = config['MODELS']['model_embeddings_google']\n",
    "    MODEL_LLM_GOOGLE = config['MODELS']['model_llm_google']\n",
    "    OUTPUT_PATH = config['DEFAULT']['output_path']\n",
    "    FAISS_GOOGLE_PATH = config['DEFAULT']['faiss_google_path']\n",
    "    NUMEXPR_MAX_THREADS = config['DEFAULT']['numexpr_max_threads']\n",
    "    LOG_PATH = config['DEFAULT']['log_path']"
   ]
  },
  {
   "cell_type": "code",
   "execution_count": 29,
   "id": "da0f5cd8-0e7b-4251-ac48-ef0dd2a79e94",
   "metadata": {},
   "outputs": [],
   "source": [
    "def get_session_history(session_id: str) -> BaseChatMessageHistory:\n",
    "    global store\n",
    "    if session_id not in store:\n",
    "        store[session_id] = ChatMessageHistory()\n",
    "    return store[session_id]"
   ]
  },
  {
   "cell_type": "code",
   "execution_count": 30,
   "id": "c2f521fd-ffe2-4bc7-8963-c5f48837fb5c",
   "metadata": {},
   "outputs": [],
   "source": [
    "def get_conversational_chain(retriever):\n",
    "    \n",
    "    llm = ChatGoogleGenerativeAI(model = MODEL_LLM_GOOGLE, temperature = 0.3)\n",
    "    #llm = Ollama(model='llama3.1:8b-instruct-q4_K_M')\n",
    "    \n",
    "    contextualize_q_prompt = ChatPromptTemplate.from_messages(\n",
    "        [\n",
    "            (\"system\", CONTEXTUALIZE_Q_SYSTEM_PROMPT),\n",
    "            MessagesPlaceholder(\"chat_history\"),\n",
    "            (\"human\", \"{input}\"),\n",
    "        ]\n",
    "    )\n",
    "    \n",
    "    history_aware_retriever = create_history_aware_retriever(\n",
    "        llm, retriever, contextualize_q_prompt\n",
    "    )\n",
    "    \n",
    "    qa_prompt = ChatPromptTemplate.from_messages(\n",
    "        [\n",
    "            (\"system\", PROMPT_TEMPLATE_GOOGLE),\n",
    "            #(\"system\", PROMPT_TEMPLATE_LLAMA),\n",
    "            MessagesPlaceholder(\"chat_history\"),\n",
    "            (\"human\", \"{input}\"),\n",
    "        ]\n",
    "    )\n",
    "    \n",
    "    question_answer_chain = create_stuff_documents_chain(llm, qa_prompt)\n",
    "    rag_chain = create_retrieval_chain(history_aware_retriever, question_answer_chain)\n",
    "    \n",
    "    conversational_rag_chain = RunnableWithMessageHistory(\n",
    "        rag_chain,\n",
    "        get_session_history,\n",
    "        input_messages_key=\"input\",\n",
    "        history_messages_key=\"chat_history\",\n",
    "        output_messages_key=\"answer\",\n",
    "    )\n",
    "    \n",
    "    return conversational_rag_chain"
   ]
  },
  {
   "cell_type": "code",
   "execution_count": 31,
   "id": "c45468f9-275d-4206-b13f-9c5a7a866f12",
   "metadata": {},
   "outputs": [],
   "source": [
    "def user_input(user_question, k_value, session_id):\n",
    "    #embeddings = GoogleGenerativeAIEmbeddings(model = MODEL_EMBEDDINGS_GOOGLE, task_type=task_type)\n",
    "    embeddings = HuggingFaceEmbeddings(model_name=\"paraphrase-multilingual-MiniLM-L12-v2\")\n",
    "    #new_db = FAISS.load_local(FAISS_GOOGLE_PATH + \"_\" + task_type, embeddings, allow_dangerous_deserialization=True)\n",
    "    new_db = FAISS.load_local(\"output/faiss_index_2\", embeddings, allow_dangerous_deserialization=True)\n",
    "    retriever = new_db.as_retriever(search_kwargs={\"k\": k_value})\n",
    "    chain = get_conversational_chain(retriever)\n",
    "    response = chain.invoke(\n",
    "        {\"input\": user_question},\n",
    "        config={\n",
    "            \"configurable\": {\"session_id\": session_id}\n",
    "        },\n",
    "    )\n",
    "    \n",
    "    return response"
   ]
  },
  {
   "cell_type": "code",
   "execution_count": 32,
   "id": "93525169-437d-4374-8059-aced394e8aac",
   "metadata": {},
   "outputs": [],
   "source": [
    "def response_generator(prompt, k_value, session_id):\n",
    "    start_model_exec = time.time()\n",
    "    response = user_input(prompt, k_value, session_id)\n",
    "    end_model_exec = time.time()\n",
    "    resp_text = \"{0} (Tiempo de respuesta: {1:.2f} seg. Session ID: {2}).\".format(response, end_model_exec - start_model_exec,  session_id)\n",
    "    for word in resp_text.split():\n",
    "        yield word + \" \"\n",
    "        time.sleep(0.05)"
   ]
  },
  {
   "cell_type": "code",
   "execution_count": 33,
   "id": "62015cd7-dd2c-41f5-9661-8454d4fde2e1",
   "metadata": {},
   "outputs": [],
   "source": [
    "warnings.filterwarnings(\"ignore\", category=FutureWarning)\n",
    "load_config()\n",
    "os.environ[\"NUMEXPR_MAX_THREADS\"] = NUMEXPR_MAX_THREADS\n",
    "os.environ['GOOGLE_API_KEY'] = GOOGLE_API_KEY"
   ]
  },
  {
   "cell_type": "code",
   "execution_count": 34,
   "id": "06a1f4e9-cc68-40c1-b3da-bdaa2939acbb",
   "metadata": {},
   "outputs": [],
   "source": [
    "k_value = 16\n",
    "session_id = \"hdb00101\"\n",
    "task_type=\"retrieval_document\"\n",
    "prompt = \"Cuál es el limite de velocidad de un camión?\""
   ]
  },
  {
   "cell_type": "markdown",
   "id": "34fce1fa-b4da-49fd-946a-a8b720def37a",
   "metadata": {},
   "source": [
    "response = {}\n",
    "for task in TASK_TYPES:\n",
    "    response[task] = user_input(prompt, k_value, session_id, task)"
   ]
  },
  {
   "cell_type": "markdown",
   "id": "26957dd5-c9f3-4b07-8653-684c8328b931",
   "metadata": {},
   "source": [
    "for task in TASK_TYPES:\n",
    "    print(task)\n",
    "    print(response[task]['context'])"
   ]
  },
  {
   "cell_type": "code",
   "execution_count": 36,
   "id": "617dd8c5-9c34-4039-87f9-aded0d77968e",
   "metadata": {},
   "outputs": [],
   "source": [
    "response = user_input(prompt, k_value, session_id)"
   ]
  },
  {
   "cell_type": "code",
   "execution_count": 37,
   "id": "fd524d78-7952-4f9c-b0d8-68d7f1ad0608",
   "metadata": {},
   "outputs": [
    {
     "data": {
      "text/plain": [
       "'Para saber el límite de velocidad de un camión, necesitaría saber por qué tipo de vía está circulando. El artículo 48 del contexto proporcionado detalla las velocidades máximas según el tipo de vía y vehículo. Por favor, proporciona más información sobre la vía por la que circula el camión. \\n'"
      ]
     },
     "execution_count": 37,
     "metadata": {},
     "output_type": "execute_result"
    }
   ],
   "source": [
    "response['answer']"
   ]
  },
  {
   "cell_type": "code",
   "execution_count": null,
   "id": "9709c978-4084-4f31-8823-3d816f60f75c",
   "metadata": {},
   "outputs": [],
   "source": [
    "response['context']"
   ]
  },
  {
   "cell_type": "code",
   "execution_count": 39,
   "id": "eb9a5569-298f-441c-b10f-c24a32b4058a",
   "metadata": {},
   "outputs": [],
   "source": [
    "response = user_input(\"poblado\", k_value, session_id)"
   ]
  },
  {
   "cell_type": "code",
   "execution_count": 40,
   "id": "edc27bdb-36f7-4495-a1a0-b07d1ecd2e4a",
   "metadata": {},
   "outputs": [
    {
     "data": {
      "text/plain": [
       "'Dentro de poblado, la velocidad máxima permitida para un camión generalmente es de **50 km/h**. \\n\\nSin embargo, esta velocidad puede ser **menor** en travesías especialmente peligrosas o en vías urbanas donde la autoridad local haya establecido una reducción. \\n\\nTe recomiendo estar atento a la señalización, ya que siempre prevalece sobre el límite general. \\n\\nEsta información la puedes encontrar detallada en el **Artículo 50** del contexto. \\n'"
      ]
     },
     "execution_count": 40,
     "metadata": {},
     "output_type": "execute_result"
    }
   ],
   "source": [
    "response['answer']"
   ]
  },
  {
   "cell_type": "code",
   "execution_count": 41,
   "id": "278c9fe3-d77f-48c3-b4c6-771f0f237624",
   "metadata": {},
   "outputs": [],
   "source": [
    "response = user_input(\"y en carretera\", k_value, session_id)"
   ]
  },
  {
   "cell_type": "code",
   "execution_count": 42,
   "id": "7a0f9310-c7ca-4937-baf1-0678bb70a6ed",
   "metadata": {},
   "outputs": [
    {
     "data": {
      "text/plain": [
       "'Para poder decirte el límite de velocidad de un camión en carretera, necesito saber a qué tipo de carretera te refieres. ¿Podrías especificar si se trata de una autopista, autovía o carretera convencional? \\n\\nTen en cuenta que el límite también puede variar si la carretera convencional tiene arcén pavimentado o más de un carril en un sentido.\\n\\nToda esta información la puedes encontrar en el **Artículo 48** del contexto. \\n'"
      ]
     },
     "execution_count": 42,
     "metadata": {},
     "output_type": "execute_result"
    }
   ],
   "source": [
    "response['answer']"
   ]
  },
  {
   "cell_type": "code",
   "execution_count": 43,
   "id": "2dccc095-3b5a-4cf2-aded-f47fdea29697",
   "metadata": {},
   "outputs": [],
   "source": [
    "response = user_input(\"Cuál es el limite de velocidad de un camión en una carretera convencional?\", k_value, session_id)"
   ]
  },
  {
   "cell_type": "code",
   "execution_count": 44,
   "id": "caba4c0f-89c3-4877-af04-56d9ec60279e",
   "metadata": {},
   "outputs": [
    {
     "data": {
      "text/plain": [
       "'El límite de velocidad de un camión en una carretera convencional depende de si esta tiene arcén pavimentado y su anchura:\\n\\n* **Carretera convencional con arcén pavimentado de 1,50 metros o más de anchura, o con más de un carril en un sentido:**  80 km/h (Artículo 48.1.a.2).\\n* **Resto de carreteras convencionales:** 70 km/h (Artículo 48.1.a.3).\\n\\nRecuerda que estos límites son generales y pueden variar si hay señalización específica en la vía. \\n'"
      ]
     },
     "execution_count": 44,
     "metadata": {},
     "output_type": "execute_result"
    }
   ],
   "source": [
    "response['answer']"
   ]
  },
  {
   "cell_type": "code",
   "execution_count": 45,
   "id": "3f0466d8-a72d-4b76-a277-3b45dce0269a",
   "metadata": {},
   "outputs": [],
   "source": [
    "response = user_input(\"que pasa si me dan atras?\", k_value, session_id)"
   ]
  },
  {
   "cell_type": "code",
   "execution_count": 46,
   "id": "dd471bf4-1c83-4f79-ad38-a16e5daf45fb",
   "metadata": {},
   "outputs": [
    {
     "data": {
      "text/plain": [
       "'Si te dan por detrás en un accidente de tráfico, lo primero que debes hacer es mantener la calma y seguir las normas de seguridad vial:\\n\\n1. **Asegura la zona:** Enciende las luces de emergencia, señaliza el accidente con los triángulos y ponte el chaleco reflectante.\\n2. **Auxilia a los heridos:** Si hay heridos, llama al 112 y proporciona asistencia si estás capacitado.\\n3. **Llama a la policía:** Si hay heridos, daños materiales importantes o desacuerdo sobre la responsabilidad, llama a la policía o guardia civil para que levanten atestado.\\n4. **Intercambia datos:** Intercambia los datos del seguro y del vehículo con el otro conductor implicado.\\n5. **Rellena el parte amistoso:** Es importante rellenar el parte amistoso de accidente con la mayor precisión posible, incluyendo la fecha, hora, lugar, daños y datos de los implicados.\\n6. **Informa a tu aseguradora:** Informa a tu aseguradora del accidente lo antes posible, incluso si no eres el culpable.\\n\\nEn cuanto a la responsabilidad, el **Artículo 1.1 del artículo 139 de la Ley sobre responsabilidad civil y seguro en la circulación de vehículos a motor** establece que \"los daños causados a las personas o en los bienes con motivo de la circulación de vehículos a motor sólo podrán ser indemnizados en los casos y en la cuantía que se determine en la presente ley y en sus normas de desarrollo\".\\n\\nEn general, se considera que el vehículo que golpea por detrás es el responsable del accidente, salvo que pueda demostrar que el vehículo delantero realizó una maniobra incorrecta o imprudente que provocó la colisión. \\n\\nRecuerda que es importante actuar con prudencia y responsabilidad en caso de accidente. \\n'"
      ]
     },
     "execution_count": 46,
     "metadata": {},
     "output_type": "execute_result"
    }
   ],
   "source": [
    "response['answer']"
   ]
  },
  {
   "cell_type": "code",
   "execution_count": 49,
   "id": "98b9a3f8-a734-41d2-bc2d-b9ee86904354",
   "metadata": {},
   "outputs": [
    {
     "data": {
      "text/plain": [
       "'Ya te he proporcionado esa información. En España, las tasas de alcohol permitidas al volante se encuentran en el **Artículo 20** y son las siguientes:\\n\\n**Para conductores en general:**\\n\\n* **Tasa de alcohol en sangre:** No superior a 0,5 gramos por litro.\\n* **Tasa de alcohol en aire espirado:** No superior a 0,25 miligramos por litro.\\n\\n**Para conductores profesionales y de vehículos especiales:**\\n\\n* **Tasa de alcohol en sangre:** No superior a 0,3 gramos por litro.\\n* **Tasa de alcohol en aire espirado:** No superior a 0,15 miligramos por litro.\\n\\n**Para conductores noveles:**\\n\\n* **Tasa de alcohol en sangre:** No superior a 0,3 gramos por litro.\\n* **Tasa de alcohol en aire espirado:** No superior a 0,15 miligramos por litro.\\n\\nConducir bajo los efectos del alcohol es peligroso e ilegal. \\n'"
      ]
     },
     "execution_count": 49,
     "metadata": {},
     "output_type": "execute_result"
    }
   ],
   "source": [
    "response = user_input(\"cuales son las tasas de alcohol?\", k_value, session_id)\n",
    "response['answer']"
   ]
  },
  {
   "cell_type": "code",
   "execution_count": 50,
   "id": "61c7056c-6b5b-4ff6-9f07-e5dec3583d27",
   "metadata": {},
   "outputs": [],
   "source": [
    "embeddings = HuggingFaceEmbeddings(model_name=\"paraphrase-multilingual-MiniLM-L12-v2\")"
   ]
  },
  {
   "cell_type": "code",
   "execution_count": null,
   "id": "cd223f1b-64e5-4f87-b2e8-01c7a48b78e4",
   "metadata": {},
   "outputs": [],
   "source": []
  }
 ],
 "metadata": {
  "kernelspec": {
   "display_name": "Python 3 (ipykernel)",
   "language": "python",
   "name": "python3"
  },
  "language_info": {
   "codemirror_mode": {
    "name": "ipython",
    "version": 3
   },
   "file_extension": ".py",
   "mimetype": "text/x-python",
   "name": "python",
   "nbconvert_exporter": "python",
   "pygments_lexer": "ipython3",
   "version": "3.11.5"
  }
 },
 "nbformat": 4,
 "nbformat_minor": 5
}
